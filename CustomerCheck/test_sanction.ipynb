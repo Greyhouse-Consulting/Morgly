{
 "cells": [
  {
   "cell_type": "code",
   "execution_count": 1,
   "metadata": {},
   "outputs": [],
   "source": [
    "import xgboost as xgb\n",
    "# import numpy as np\n",
    "# import pandas as pd\n",
    "\n",
    "# Gender\tMarried\tDependents\tEducation\tSelf_Employed\tApplicantIncome\tCoapplicantIncome\tLoanAmount\tLoan_Amount_Term\tCredit_History\tProperty_Area"
   ]
  },
  {
   "cell_type": "code",
   "execution_count": 2,
   "metadata": {},
   "outputs": [],
   "source": [
    "xgb_classifier = xgb.XGBClassifier()\n",
    "\n",
    "xgb_classifier.load_model('model.json')"
   ]
  },
  {
   "cell_type": "code",
   "execution_count": 9,
   "metadata": {},
   "outputs": [
    {
     "name": "stdout",
     "output_type": "stream",
     "text": [
      "[0]\n"
     ]
    }
   ],
   "source": [
    "\n",
    "amount = 530000.00\n",
    "#x =  [[ 1,\t0,\t10,\t0,\t0,\t20.0,\t1.000000,\t1.000000,\t400000000.000000,\t1.0,\t0]] #result 0\n",
    "x  =[[1,\t0,\t0,\t1,\t0,\tamount,\t360.0,\t1.000000,\t1,\t14.489984,\t0.000000,\t14.489984]] # result 1\n",
    "p = xgb_classifier.predict(x)\n",
    "print(p)"
   ]
  }
 ],
 "metadata": {
  "kernelspec": {
   "display_name": "Python 3",
   "language": "python",
   "name": "python3"
  },
  "language_info": {
   "codemirror_mode": {
    "name": "ipython",
    "version": 3
   },
   "file_extension": ".py",
   "mimetype": "text/x-python",
   "name": "python",
   "nbconvert_exporter": "python",
   "pygments_lexer": "ipython3",
   "version": "3.11.6"
  }
 },
 "nbformat": 4,
 "nbformat_minor": 2
}
